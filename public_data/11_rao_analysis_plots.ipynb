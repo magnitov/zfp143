{
 "cells": [
  {
   "cell_type": "code",
   "execution_count": 1,
   "id": "0dd7fbab-cc2c-4315-af82-de1076a828e8",
   "metadata": {
    "tags": []
   },
   "outputs": [],
   "source": [
    "import os\n",
    "import subprocess\n",
    "import pandas as pd\n",
    "import numpy as np\n",
    "import matplotlib.pyplot as plt\n",
    "import seaborn as sns"
   ]
  },
  {
   "cell_type": "markdown",
   "id": "5a2f16cf-12b6-45e1-a8f0-7f52b0801a72",
   "metadata": {
    "tags": []
   },
   "source": [
    "## Count fraction of loop anchors overlapping peaks"
   ]
  },
  {
   "cell_type": "markdown",
   "id": "28da6bbb-e6b1-4cef-87ce-e19a40a2789d",
   "metadata": {
    "tags": []
   },
   "source": [
    "### Rao datasets"
   ]
  },
  {
   "cell_type": "code",
   "execution_count": null,
   "id": "e90b79bc-1d5a-48f3-bc11-b3560d24e0b4",
   "metadata": {},
   "outputs": [],
   "source": [
    "datasets = os.listdir('/DATA/users/magnitov/znf143/chipseq/public_data/rao_data/')\n",
    "datasets = sorted([x for x in datasets if 'K562' in x and 'HiCCUPS' not in x and 'anchors' not in x])\n",
    "datasets = sorted([x for x in datasets if '.narrowPeak' in x or '.bed' in x])\n",
    "\n",
    "k562_loops = '/DATA/users/magnitov/znf143/chipseq/public_data/rao_data/Rao_K562_HiCCUPS_loop_anchors.bed'\n",
    "total = len(pd.read_csv(k562_loops, sep = '\\t', header = None))\n",
    "folder_loops = '/DATA/users/magnitov/znf143/chipseq/public_data/rao_data/'\n",
    "\n",
    "k562_overlap_fractions = []\n",
    "for i in range(0, len(datasets)):\n",
    "    p = subprocess.run([\"bedtools\", \"intersect\", \n",
    "                        \"-a\", k562_loops,\n",
    "                        \"-b\", folder_loops + datasets[i],\n",
    "                        \"-wa\"], \n",
    "                        stdout=subprocess.PIPE)\n",
    "    overlap = len(np.unique(p.stdout.decode('utf-8').split('\\n')))-1\n",
    "    k562_overlap_fractions.append(overlap/total)"
   ]
  },
  {
   "cell_type": "code",
   "execution_count": null,
   "id": "7e4c2e3e-e198-4c78-aa93-df5670d04845",
   "metadata": {},
   "outputs": [],
   "source": [
    "k562_overlap_fractions_df = pd.DataFrame(k562_overlap_fractions,\n",
    "                                         index = datasets, \n",
    "                                         columns = ['fraction_peak_loci'])\n",
    "k562_overlap_fractions_df.to_csv('/DATA/users/magnitov/znf143/chipseq/public_data/rao_data/K562_loop_anchors_overlap_rao_datasets.txt', index = 1, header = 1, sep = '\\t')"
   ]
  },
  {
   "cell_type": "markdown",
   "id": "73bf47c5-1ee1-47b8-8922-7149df957af2",
   "metadata": {
    "tags": []
   },
   "source": [
    "### ZNF143 datasets"
   ]
  },
  {
   "cell_type": "code",
   "execution_count": null,
   "id": "6d5f0a09-7609-4b2d-812d-2253af81ea47",
   "metadata": {},
   "outputs": [],
   "source": [
    "datasets = ['peaks_common', 'peaks_proteintech', 'peaks_flag']\n",
    "\n",
    "k562_loops = '/DATA/users/magnitov/znf143/chipseq/public_data/rao_data/Rao_K562_HiCCUPS_loop_anchors.bed'\n",
    "total = len(pd.read_csv(k562_loops, sep = '\\t', header = None))\n",
    "folder_loops = '/DATA/users/magnitov/znf143/chipseq/public_data/rao_data/'\n",
    "\n",
    "k562_overlap_fractions = []\n",
    "for i in range(0, len(datasets)):\n",
    "    p = subprocess.run([\"bedtools\", \"intersect\", \n",
    "                        \"-a\", k562_loops,\n",
    "                        \"-b\", folder_loops + datasets[i] + '.liftOver_hg19.bed',\n",
    "                        \"-wa\"], \n",
    "                        stdout=subprocess.PIPE)\n",
    "    overlap = len(np.unique(p.stdout.decode('utf-8').split('\\n')))-1\n",
    "    k562_overlap_fractions.append(overlap/total)"
   ]
  },
  {
   "cell_type": "code",
   "execution_count": null,
   "id": "6531e9be-dc85-424d-bbb1-5832153ca05c",
   "metadata": {},
   "outputs": [],
   "source": [
    "k562_overlap_fractions_df = pd.DataFrame(k562_overlap_fractions,\n",
    "                                         index = datasets, \n",
    "                                         columns = ['fraction_peak_loci'])\n",
    "k562_overlap_fractions_df.to_csv('/DATA/users/magnitov/znf143/chipseq/public_data/rao_data/K562_loop_anchors_overlap_znf143_datasets.txt', index = 1, header = 1, sep = '\\t')"
   ]
  },
  {
   "cell_type": "markdown",
   "id": "e7b143fe-e3d7-4791-b1b5-93c7a8d0f064",
   "metadata": {},
   "source": [
    "## Plot enrichment and overlap of factors in loop anchors "
   ]
  },
  {
   "cell_type": "code",
   "execution_count": 3,
   "id": "1ab70430-af5f-488d-91cb-199ab728558a",
   "metadata": {},
   "outputs": [
    {
     "data": {
      "text/html": [
       "<div>\n",
       "<style scoped>\n",
       "    .dataframe tbody tr th:only-of-type {\n",
       "        vertical-align: middle;\n",
       "    }\n",
       "\n",
       "    .dataframe tbody tr th {\n",
       "        vertical-align: top;\n",
       "    }\n",
       "\n",
       "    .dataframe thead th {\n",
       "        text-align: right;\n",
       "    }\n",
       "</style>\n",
       "<table border=\"1\" class=\"dataframe\">\n",
       "  <thead>\n",
       "    <tr style=\"text-align: right;\">\n",
       "      <th></th>\n",
       "      <th>peaks</th>\n",
       "      <th>fraction_peak_loci</th>\n",
       "      <th>obs_overlaps</th>\n",
       "      <th>perm_overlaps</th>\n",
       "      <th>z-score</th>\n",
       "      <th>fc</th>\n",
       "      <th>fc_scaled</th>\n",
       "    </tr>\n",
       "  </thead>\n",
       "  <tbody>\n",
       "    <tr>\n",
       "      <th>115</th>\n",
       "      <td>wgEncodeAwgTfbsSydhK562Rad21UniPk.narrowPeak</td>\n",
       "      <td>0.708274</td>\n",
       "      <td>7425</td>\n",
       "      <td>857.24</td>\n",
       "      <td>172.3253</td>\n",
       "      <td>8.661518</td>\n",
       "      <td>3.413997</td>\n",
       "    </tr>\n",
       "    <tr>\n",
       "      <th>121</th>\n",
       "      <td>wgEncodeAwgTfbsSydhK562Smc3ab9263IggrabUniPk.n...</td>\n",
       "      <td>0.752963</td>\n",
       "      <td>8476</td>\n",
       "      <td>1168.74</td>\n",
       "      <td>119.9041</td>\n",
       "      <td>7.252255</td>\n",
       "      <td>2.858526</td>\n",
       "    </tr>\n",
       "    <tr>\n",
       "      <th>36</th>\n",
       "      <td>wgEncodeAwgTfbsHaibK562Rad21V0416102UniPk.narr...</td>\n",
       "      <td>0.796705</td>\n",
       "      <td>9796</td>\n",
       "      <td>1695.22</td>\n",
       "      <td>146.4786</td>\n",
       "      <td>5.778601</td>\n",
       "      <td>2.277676</td>\n",
       "    </tr>\n",
       "    <tr>\n",
       "      <th>138</th>\n",
       "      <td>wgEncodeAwgTfbsSydhK562Znf143IggrabUniPk.narro...</td>\n",
       "      <td>0.644737</td>\n",
       "      <td>7527</td>\n",
       "      <td>1478.23</td>\n",
       "      <td>92.2466</td>\n",
       "      <td>5.091900</td>\n",
       "      <td>2.007008</td>\n",
       "    </tr>\n",
       "    <tr>\n",
       "      <th>144</th>\n",
       "      <td>wgEncodeAwgTfbsUwK562CtcfUniPk.narrowPeak</td>\n",
       "      <td>0.804884</td>\n",
       "      <td>10521</td>\n",
       "      <td>2119.06</td>\n",
       "      <td>117.7592</td>\n",
       "      <td>4.964937</td>\n",
       "      <td>1.956964</td>\n",
       "    </tr>\n",
       "  </tbody>\n",
       "</table>\n",
       "</div>"
      ],
      "text/plain": [
       "                                                 peaks  fraction_peak_loci  \\\n",
       "115       wgEncodeAwgTfbsSydhK562Rad21UniPk.narrowPeak            0.708274   \n",
       "121  wgEncodeAwgTfbsSydhK562Smc3ab9263IggrabUniPk.n...            0.752963   \n",
       "36   wgEncodeAwgTfbsHaibK562Rad21V0416102UniPk.narr...            0.796705   \n",
       "138  wgEncodeAwgTfbsSydhK562Znf143IggrabUniPk.narro...            0.644737   \n",
       "144          wgEncodeAwgTfbsUwK562CtcfUniPk.narrowPeak            0.804884   \n",
       "\n",
       "     obs_overlaps  perm_overlaps   z-score        fc  fc_scaled  \n",
       "115          7425         857.24  172.3253  8.661518   3.413997  \n",
       "121          8476        1168.74  119.9041  7.252255   2.858526  \n",
       "36           9796        1695.22  146.4786  5.778601   2.277676  \n",
       "138          7527        1478.23   92.2466  5.091900   2.007008  \n",
       "144         10521        2119.06  117.7592  4.964937   1.956964  "
      ]
     },
     "execution_count": 3,
     "metadata": {},
     "output_type": "execute_result"
    }
   ],
   "source": [
    "# Overlaps with loop anchors\n",
    "overlaps = pd.read_csv('./rao_data/K562_loop_anchors_overlap_rao_datasets.txt', sep = '\\t')\n",
    "\n",
    "# Enrichment in loop anchors\n",
    "enrichment = pd.read_csv('./rao_data/K562_loop_anchors_enrichment_rao_datasets.csv')\n",
    "enrichment.columns = ['peaks', 'obs_overlaps', 'perm_overlaps', 'z-score']\n",
    "enrichment['fc'] = enrichment['obs_overlaps']/enrichment['perm_overlaps']\n",
    "\n",
    "k562_rao = overlaps.merge(enrichment, on = 'peaks')\n",
    "k562_rao['fc_scaled'] = k562_rao['fc'] / np.mean(k562_rao['fc'])\n",
    "k562_rao.sort_values('fc', ascending = False).head()"
   ]
  },
  {
   "cell_type": "code",
   "execution_count": 4,
   "id": "28a4bf3a-d5b9-4787-868d-1e36b42e484e",
   "metadata": {},
   "outputs": [
    {
     "data": {
      "text/html": [
       "<div>\n",
       "<style scoped>\n",
       "    .dataframe tbody tr th:only-of-type {\n",
       "        vertical-align: middle;\n",
       "    }\n",
       "\n",
       "    .dataframe tbody tr th {\n",
       "        vertical-align: top;\n",
       "    }\n",
       "\n",
       "    .dataframe thead th {\n",
       "        text-align: right;\n",
       "    }\n",
       "</style>\n",
       "<table border=\"1\" class=\"dataframe\">\n",
       "  <thead>\n",
       "    <tr style=\"text-align: right;\">\n",
       "      <th></th>\n",
       "      <th>peaks</th>\n",
       "      <th>fraction_peak_loci</th>\n",
       "      <th>obs_overlaps</th>\n",
       "      <th>perm_overlaps</th>\n",
       "      <th>z-score</th>\n",
       "      <th>fc</th>\n",
       "      <th>fc_scaled</th>\n",
       "    </tr>\n",
       "  </thead>\n",
       "  <tbody>\n",
       "    <tr>\n",
       "      <th>0</th>\n",
       "      <td>peaks_common</td>\n",
       "      <td>0.030583</td>\n",
       "      <td>267</td>\n",
       "      <td>135.01</td>\n",
       "      <td>10.4410</td>\n",
       "      <td>1.977631</td>\n",
       "      <td>0.779497</td>\n",
       "    </tr>\n",
       "    <tr>\n",
       "      <th>1</th>\n",
       "      <td>peaks_proteintech</td>\n",
       "      <td>0.554054</td>\n",
       "      <td>6434</td>\n",
       "      <td>1302.53</td>\n",
       "      <td>70.5796</td>\n",
       "      <td>4.939618</td>\n",
       "      <td>1.946984</td>\n",
       "    </tr>\n",
       "    <tr>\n",
       "      <th>2</th>\n",
       "      <td>peaks_flag</td>\n",
       "      <td>0.000711</td>\n",
       "      <td>6</td>\n",
       "      <td>3.87</td>\n",
       "      <td>0.9428</td>\n",
       "      <td>1.550388</td>\n",
       "      <td>0.611096</td>\n",
       "    </tr>\n",
       "  </tbody>\n",
       "</table>\n",
       "</div>"
      ],
      "text/plain": [
       "               peaks  fraction_peak_loci  obs_overlaps  perm_overlaps  \\\n",
       "0       peaks_common            0.030583           267         135.01   \n",
       "1  peaks_proteintech            0.554054          6434        1302.53   \n",
       "2         peaks_flag            0.000711             6           3.87   \n",
       "\n",
       "   z-score        fc  fc_scaled  \n",
       "0  10.4410  1.977631   0.779497  \n",
       "1  70.5796  4.939618   1.946984  \n",
       "2   0.9428  1.550388   0.611096  "
      ]
     },
     "execution_count": 4,
     "metadata": {},
     "output_type": "execute_result"
    }
   ],
   "source": [
    "# Overlaps with loop anchors\n",
    "overlaps = pd.read_csv('./rao_data/K562_loop_anchors_overlap_znf143_datasets.txt', sep = '\\t')\n",
    "overlaps.columns = ['peaks', 'fraction_peak_loci']\n",
    "\n",
    "# Enrichment in loop anchors\n",
    "enrichment = pd.read_csv('./rao_data/K562_loop_anchors_enrichment_znf143_datasets.csv')\n",
    "enrichment.columns = ['peaks', 'obs_overlaps', 'perm_overlaps', 'z-score']\n",
    "enrichment['fc'] = enrichment['obs_overlaps']/enrichment['perm_overlaps']\n",
    "\n",
    "k562_znf143 = overlaps.merge(enrichment, on = 'peaks')\n",
    "k562_znf143['fc_scaled'] = k562_znf143['fc'] / np.mean(k562_rao['fc'])\n",
    "k562_znf143.head()"
   ]
  },
  {
   "cell_type": "code",
   "execution_count": 10,
   "id": "638c0a28-ffae-4def-aa6c-72bb0b852712",
   "metadata": {},
   "outputs": [
    {
     "data": {
      "image/png": "[encoded data removed]",
      "text/plain": [
       "<Figure size 500x400 with 1 Axes>"
      ]
     },
     "metadata": {},
     "output_type": "display_data"
    }
   ],
   "source": [
    "plt.figure(figsize = (5, 4))\n",
    "plt.title('Proteins at K562 Hi-C loop anchors', fontsize = 14)\n",
    "plt.scatter(k562_rao[k562_rao['peaks'] != 'wgEncodeAwgTfbsSydhK562Znf143IggrabUniPk.narrowPeak']['fraction_peak_loci'], \n",
    "            k562_rao[k562_rao['peaks'] != 'wgEncodeAwgTfbsSydhK562Znf143IggrabUniPk.narrowPeak']['fc_scaled'], \n",
    "            edgecolor = 'grey', lw = 1, color = 'silver')\n",
    "\n",
    "plt.text(s = 'DHS', x = 0.9, y = 1.05)\n",
    "plt.text(s = 'RAD21', x = 0.81, y = 2.35)\n",
    "plt.text(s = 'RAD21', x = 0.72, y = 3.48)\n",
    "plt.text(s = 'SMC3', x = 0.76, y = 2.95)\n",
    "plt.text(s = 'CTCF', x = 0.85, y = 1.85)\n",
    "\n",
    "plt.scatter(k562_znf143[k562_znf143['peaks'].isin(['peaks_proteintech'])]['fraction_peak_loci'], \n",
    "            k562_znf143[k562_znf143['peaks'].isin(['peaks_proteintech'])]['fc_scaled'], \n",
    "            s = 120, edgecolor = 'k', color = '#E78AC3', label = 'Proteintech-specific')\n",
    "plt.scatter(k562_znf143[k562_znf143['peaks'].isin(['peaks_flag'])]['fraction_peak_loci'], \n",
    "            k562_znf143[k562_znf143['peaks'].isin(['peaks_flag'])]['fc_scaled'], \n",
    "            s = 120, edgecolor = 'k', color = '#66C2A5', label = 'FLAG-specific')\n",
    "plt.scatter(k562_znf143[k562_znf143['peaks'].isin(['peaks_common'])]['fraction_peak_loci'], \n",
    "            k562_znf143[k562_znf143['peaks'].isin(['peaks_common'])]['fc_scaled'], \n",
    "            s = 120, edgecolor = 'k', color = '#D19F71', label = 'Common')\n",
    "plt.xlabel('Fraction of loop anchors with peak', fontsize = 12)\n",
    "plt.ylabel('Fold enrichment', fontsize = 12)\n",
    "plt.xlim((-0.03, 1.03))\n",
    "plt.ylim((-0.1, 3.7))\n",
    "plt.legend(fontsize = 11, loc = 'upper left')\n",
    "\n",
    "plt.tight_layout()\n",
    "plt.show()"
   ]
  }
 ],
 "metadata": {
  "kernelspec": {
   "display_name": "Python [conda env:anaconda3]",
   "language": "python",
   "name": "conda-env-anaconda3-py"
  },
  "language_info": {
   "codemirror_mode": {
    "name": "ipython",
    "version": 3
   },
   "file_extension": ".py",
   "mimetype": "text/x-python",
   "name": "python",
   "nbconvert_exporter": "python",
   "pygments_lexer": "ipython3",
   "version": "3.8.5"
  }
 },
 "nbformat": 4,
 "nbformat_minor": 5
}
